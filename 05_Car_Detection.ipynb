#Import Libraries
import cv2
import numpy as np

#Create Classifier
car_classifier = cv2.CascadeClassifier('Haarcascades/haarcascade_car.xml')

#Capture Video
cap = cv2.VideoCapture('Video/Vehicles.mp4')

#It's a kind of magic
#while loop
while cap.isOpened():

    #Read the Capture
    ret, frame = cap.read()
    
    #Pass the Frame to the Classifier
    cars = car_classifier.detectMultiScale(frame, 1.4, 2)
    
    #for loop
    for (x,y,w,h) in cars:
    
      #Bound Boxes to Identified Bodies
      cv2.rectangle(frame,
                    (x,y),
                    (x+w, y+h),
                    (0,255,255),
                    2)
      cv2.imshow('Cars', frame)
      
    #Exit with esc button
    if cv2.waitKey(1) & 0xFF == 27:
        break
          
#Release the Capture & Destroy All Windows

cap.release()
cv2.destroyAllWindows()
