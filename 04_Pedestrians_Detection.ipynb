#Import Libraries
import cv2
import numpy as np

#Create Classifier
body_classifier = cv2.CascadeClassifier('Haarcascades/haarcascade_fullbody.xml')

#Capture Video
cap = cv2.VideoCapture('Video/People_Walking.mp4')

#It's a kind of magic
#while loop
while cap.isOpened():

      #Read the capture
      ret,frame = cap.read()

      #Pass the frame to the classifier
      bodies = body_classifier.detectMultiScale(frame,1.2,3)

      #if statement
      if ret == True:

            #Bound boxes to Identified Bodies
            for (x,y,w,h) in bodies:
                  cv2.rectangle(frame,
                                (x,y),
                                (x+w, y+h),
                                (25,125,225),
                                5)
                  cv2.imshow('Pedestrians', frame)

            #Exit with esc button
            if cv2.waitKey(1) == 27:
                  break

      #else statement
      else:
            break

#Release the capture and destroy all windows
cap.release()
cv2.destroyAllWindows()

