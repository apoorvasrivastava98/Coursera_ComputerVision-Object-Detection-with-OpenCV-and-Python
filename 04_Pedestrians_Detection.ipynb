#Import Libraries
import cv2
import numpy as np

#Create Classifier
body_classifier = cv2.CascadeClassifier('Haarcascades/haarcascade_fullbody.xml')

#Capture Video
cap = cv2.VideoCapture('Video/People_Walking.mp4')

#It's a kind of magic
#while loop
while cap.isOpened():

      #Read the capture
      ret,frame = cap.read()

      #Pass the frame to the classifier
      bodies = body_classifier.detectMultiScale(frame,1.2,3)

      #if statement
      
