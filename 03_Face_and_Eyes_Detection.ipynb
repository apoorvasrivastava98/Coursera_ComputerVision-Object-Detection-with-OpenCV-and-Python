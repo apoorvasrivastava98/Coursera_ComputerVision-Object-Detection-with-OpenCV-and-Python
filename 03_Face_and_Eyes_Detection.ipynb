#Import Libraries
import cv2
import numpy as np
import matplotlib.pyplot as plt

%matplotlib inline

#Create Classifiers
face_classifier = cv2.CascadeClassifier('Haarcascades/haarcascade_frontal_face_default')
eye_classifier = cv2.CascadeClassifier('Haarcascades/haarcascade_eye.xml')

#Open Image
img = cv2.imread('Images/eye_face.jpg')

#Fix Image
fix_img = cv2.cvtColor(img, cv2.COLOR_BGR2RGB)

#Face Classifier
faces = face_classifier.detectMultiScale(fix_img, 1.3, 5)

#If no faces are detected
if faces is ():
    print('No Faces found')
    
#It's a kind of magic
def detct_faces_eyes(fix_img):

  face_rects = face_classifier.detectMultiScale(fix_img)
  
  for(x,y,w,h) in face_rects:
    cv2.rectangle(fix_img,
                  (x, y),
                  (x+w, y+h),
                  (255,0,0),
                  7)
    eyes_rects = eye_classifier.detectMultiScale(fix_img)
    for(ix,iy,iw,ih) in eyes_rects:
        cv2.rectangle(fix_img,
                  (ix,iy),
                  (ix+iw, iy+ih),
                  (0,0,255),
                  5)
     return fix_img
     
     result = detect_faces_eyes(fix_img)
     plt.imshow(result)
